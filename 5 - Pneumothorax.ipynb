{
  "nbformat": 4,
  "nbformat_minor": 0,
  "metadata": {
    "colab": {
      "name": "5 - Pneumothorax.ipynb",
      "version": "0.3.2",
      "provenance": [],
      "collapsed_sections": [],
      "include_colab_link": true
    },
    "kernelspec": {
      "display_name": "Python 3",
      "language": "python",
      "name": "python3"
    }
  },
  "cells": [
    {
      "cell_type": "markdown",
      "metadata": {
        "id": "view-in-github",
        "colab_type": "text"
      },
      "source": [
        "<a href=\"https://colab.research.google.com/github/christinium/japan2019/blob/master/5%20-%20Pneumothorax.ipynb\" target=\"_parent\"><img src=\"https://colab.research.google.com/assets/colab-badge.svg\" alt=\"Open In Colab\"/></a>"
      ]
    },
    {
      "metadata": {
        "colab_type": "text",
        "id": "kahC0Hi6sX7a"
      },
      "cell_type": "markdown",
      "source": [
        "# Pneumothorax example\n",
        "\n",
        "## Sentence tokenization, and spotting term + negation\n",
        "\n",
        "This example spots meantions of the \"pneumothorax\" lexicon in CXR reports and looks at whether the spotted pneumothorax mentioned was negated or not. \n",
        "\n",
        "Originally contributed by:\n",
        "\n",
        "*Joy Wu* <joy.wu@ibm.com>*, *Daniel Gruhl <dgruhl@us.ibm.com>*"
      ]
    },
    {
      "metadata": {
        "colab_type": "code",
        "id": "IghAvd9KsX7g",
        "colab": {}
      },
      "cell_type": "code",
      "source": [
        "# Required files\n",
        "import requests\n",
        "from requests.auth import HTTPBasicAuth\n",
        "import json\n",
        "import matplotlib.pyplot as plt\n",
        "import subprocess\n",
        "import tempfile\n",
        "import os\n",
        "import sys\n",
        "import pandas as pd\n",
        "import numpy as np\n",
        "import re\n",
        "import random\n",
        "from nltk.tokenize import sent_tokenize\n",
        "\n",
        "\n",
        "\n",
        "from google.colab import auth\n",
        "from google.cloud import bigquery\n",
        "from google.colab import files"
      ],
      "execution_count": 0,
      "outputs": []
    },
    {
      "metadata": {
        "colab_type": "text",
        "id": "eItuw11H61V2"
      },
      "cell_type": "markdown",
      "source": [
        "**Authenticate:** The line of code below ensures you are an authenticated user accessing the MIMIC database. You will need to rerun this each time you open the notebook."
      ]
    },
    {
      "metadata": {
        "colab_type": "code",
        "id": "H30PHyTf2m0I",
        "colab": {}
      },
      "cell_type": "code",
      "source": [
        "auth.authenticate_user() #This will allow you to authenticate access to BigQuery"
      ],
      "execution_count": 0,
      "outputs": []
    },
    {
      "metadata": {
        "colab_type": "text",
        "id": "sRzpINxx7BJY"
      },
      "cell_type": "markdown",
      "source": [
        "**Query Function: **This is a method that executes a desired SQL query on the database. If you want to run a query, you can use the function name below, which we named run_query()\n"
      ]
    },
    {
      "metadata": {
        "colab_type": "code",
        "id": "k7Y86QrA2xDy",
        "colab": {}
      },
      "cell_type": "code",
      "source": [
        "project_id='datathonjapan2019'\n",
        "os.environ[\"GOOGLE_CLOUD_PROJECT\"]=project_id\n",
        "# Read data from BigQuery into pandas dataframes.\n",
        "def run_query(query):\n",
        "  return pd.io.gbq.read_gbq(query, project_id=project_id, verbose=False, configuration={'query':{'useLegacySql': False}})"
      ],
      "execution_count": 0,
      "outputs": []
    },
    {
      "metadata": {
        "colab_type": "text",
        "id": "72KosSwasX7p"
      },
      "cell_type": "markdown",
      "source": [
        "### Sentence splitting:"
      ]
    },
    {
      "metadata": {
        "colab_type": "code",
        "id": "2oVmqJuLsX7s",
        "colab": {
          "base_uri": "https://localhost:8080/",
          "height": 285
        },
        "outputId": "4cf8a699-c7c1-4143-a962-90387e9f5d93"
      },
      "cell_type": "code",
      "source": [
        "# Read the sample CXR reports \n",
        "\n",
        "CXRreports = run_query('''\n",
        "SELECT * \n",
        "FROM `physionet-data.mimiciii_nlp_demo.cxr`\n",
        "''')\n",
        "CXRreports.head()\n"
      ],
      "execution_count": 5,
      "outputs": [
        {
          "output_type": "execute_result",
          "data": {
            "text/html": [
              "<div>\n",
              "<style scoped>\n",
              "    .dataframe tbody tr th:only-of-type {\n",
              "        vertical-align: middle;\n",
              "    }\n",
              "\n",
              "    .dataframe tbody tr th {\n",
              "        vertical-align: top;\n",
              "    }\n",
              "\n",
              "    .dataframe thead th {\n",
              "        text-align: right;\n",
              "    }\n",
              "</style>\n",
              "<table border=\"1\" class=\"dataframe\">\n",
              "  <thead>\n",
              "    <tr style=\"text-align: right;\">\n",
              "      <th></th>\n",
              "      <th>row_id</th>\n",
              "      <th>subject_id</th>\n",
              "      <th>hadm_id</th>\n",
              "      <th>chartdate</th>\n",
              "      <th>charttime</th>\n",
              "      <th>storetime</th>\n",
              "      <th>category</th>\n",
              "      <th>description</th>\n",
              "      <th>cgid</th>\n",
              "      <th>iserror</th>\n",
              "      <th>text</th>\n",
              "    </tr>\n",
              "  </thead>\n",
              "  <tbody>\n",
              "    <tr>\n",
              "      <th>0</th>\n",
              "      <td>739780</td>\n",
              "      <td>24248</td>\n",
              "      <td>None</td>\n",
              "      <td>2158-05-23</td>\n",
              "      <td>2158-05-23 16:00:00</td>\n",
              "      <td></td>\n",
              "      <td>Radiology</td>\n",
              "      <td>CHEST (PA &amp; LAT)</td>\n",
              "      <td></td>\n",
              "      <td></td>\n",
              "      <td>[**2158-5-23**] 4:00 PM\\n CHEST (PA &amp; LAT)    ...</td>\n",
              "    </tr>\n",
              "    <tr>\n",
              "      <th>1</th>\n",
              "      <td>739802</td>\n",
              "      <td>15017</td>\n",
              "      <td>None</td>\n",
              "      <td>2152-07-20</td>\n",
              "      <td>2152-07-20 10:54:00</td>\n",
              "      <td></td>\n",
              "      <td>Radiology</td>\n",
              "      <td>CHEST (PA &amp; LAT)</td>\n",
              "      <td></td>\n",
              "      <td></td>\n",
              "      <td>[**2152-7-20**] 10:54 AM\\n CHEST (PA &amp; LAT)   ...</td>\n",
              "    </tr>\n",
              "    <tr>\n",
              "      <th>2</th>\n",
              "      <td>739893</td>\n",
              "      <td>20979</td>\n",
              "      <td>None</td>\n",
              "      <td>2168-08-19</td>\n",
              "      <td>2168-08-19 17:32:00</td>\n",
              "      <td></td>\n",
              "      <td>Radiology</td>\n",
              "      <td>CHEST (PA &amp; LAT)</td>\n",
              "      <td></td>\n",
              "      <td></td>\n",
              "      <td>[**2168-8-19**] 5:32 PM\\n CHEST (PA &amp; LAT)    ...</td>\n",
              "    </tr>\n",
              "    <tr>\n",
              "      <th>3</th>\n",
              "      <td>739863</td>\n",
              "      <td>22853</td>\n",
              "      <td>None</td>\n",
              "      <td>2155-07-29</td>\n",
              "      <td>2155-07-29 14:02:00</td>\n",
              "      <td></td>\n",
              "      <td>Radiology</td>\n",
              "      <td>CHEST (PA &amp; LAT)</td>\n",
              "      <td></td>\n",
              "      <td></td>\n",
              "      <td>[**2155-7-29**] 2:02 PM\\n CHEST (PA &amp; LAT)    ...</td>\n",
              "    </tr>\n",
              "    <tr>\n",
              "      <th>4</th>\n",
              "      <td>739757</td>\n",
              "      <td>15374</td>\n",
              "      <td>None</td>\n",
              "      <td>2133-05-18</td>\n",
              "      <td>2133-05-18 10:53:00</td>\n",
              "      <td></td>\n",
              "      <td>Radiology</td>\n",
              "      <td>CHEST (PA &amp; LAT)</td>\n",
              "      <td></td>\n",
              "      <td></td>\n",
              "      <td>[**2133-5-18**] 10:53 AM\\n CHEST (PA &amp; LAT)   ...</td>\n",
              "    </tr>\n",
              "  </tbody>\n",
              "</table>\n",
              "</div>"
            ],
            "text/plain": [
              "   row_id  subject_id hadm_id  chartdate           charttime storetime  \\\n",
              "0  739780       24248    None 2158-05-23 2158-05-23 16:00:00             \n",
              "1  739802       15017    None 2152-07-20 2152-07-20 10:54:00             \n",
              "2  739893       20979    None 2168-08-19 2168-08-19 17:32:00             \n",
              "3  739863       22853    None 2155-07-29 2155-07-29 14:02:00             \n",
              "4  739757       15374    None 2133-05-18 2133-05-18 10:53:00             \n",
              "\n",
              "    category       description cgid iserror  \\\n",
              "0  Radiology  CHEST (PA & LAT)                \n",
              "1  Radiology  CHEST (PA & LAT)                \n",
              "2  Radiology  CHEST (PA & LAT)                \n",
              "3  Radiology  CHEST (PA & LAT)                \n",
              "4  Radiology  CHEST (PA & LAT)                \n",
              "\n",
              "                                                text  \n",
              "0  [**2158-5-23**] 4:00 PM\\n CHEST (PA & LAT)    ...  \n",
              "1  [**2152-7-20**] 10:54 AM\\n CHEST (PA & LAT)   ...  \n",
              "2  [**2168-8-19**] 5:32 PM\\n CHEST (PA & LAT)    ...  \n",
              "3  [**2155-7-29**] 2:02 PM\\n CHEST (PA & LAT)    ...  \n",
              "4  [**2133-5-18**] 10:53 AM\\n CHEST (PA & LAT)   ...  "
            ]
          },
          "metadata": {
            "tags": []
          },
          "execution_count": 5
        }
      ]
    },
    {
      "metadata": {
        "colab_type": "code",
        "id": "39aeASmGsX75",
        "colab": {
          "base_uri": "https://localhost:8080/",
          "height": 449
        },
        "outputId": "263b0a51-1d46-49b2-f063-48e0ced292a7"
      },
      "cell_type": "code",
      "source": [
        "#This prints the first report (numbering starts at 0). You can change the report by changing \"0\" to another number\n",
        "report = CXRreports.text[0]\n",
        "print(report)"
      ],
      "execution_count": 6,
      "outputs": [
        {
          "output_type": "stream",
          "text": [
            "[**2158-5-23**] 4:00 PM\n",
            " CHEST (PA & LAT)                                                Clip # [**Clip Number (Radiology) 50638**]\n",
            " Reason: follow up cxr for pt with pneumomia rml\n",
            " ______________________________________________________________________________\n",
            " [**Hospital 2**] MEDICAL CONDITION:\n",
            "  37 year old man with sob, chest and left LE DVT\n",
            " REASON FOR THIS EXAMINATION:\n",
            "  follow up cxr for pt with pneumomia rml\n",
            " ______________________________________________________________________________\n",
            "                                 FINAL REPORT\n",
            " INDICATION:  Right middle lobe pneumonia.\n",
            "\n",
            " CHEST TWO VIEWS:  There are consolidation/collapse in the right middle lobe\n",
            " and in the anterior segment of the right lower lobe, not significantly changed\n",
            " since [**2158-5-16**].  There is minimal linear atelectasis at the left lung base.  A\n",
            " small right pleural effusion is present.  The left costophrenic angle is\n",
            " clear.  Pulmonary vascularity is normal.  Cardiomediastinal silhouette is\n",
            " normal.\n",
            "\n",
            " IMPRESSION:  Consolidation/collapse in the right middle lobe and anterior\n",
            " segment of the right lower lobe are unchanged since [**2158-5-16**].  A delayed follow\n",
            " up (time course of several weeks) is recommended to evaluate for long term\n",
            " change.\n",
            "\n",
            "\n"
          ],
          "name": "stdout"
        }
      ]
    },
    {
      "metadata": {
        "colab_type": "code",
        "id": "1XE_GBgB4f6w",
        "colab": {
          "base_uri": "https://localhost:8080/",
          "height": 69
        },
        "outputId": "68762fd2-ce79-489c-a31c-f4978f225409"
      },
      "cell_type": "code",
      "source": [
        "  #This imports nltk and punkt into our environment\n",
        "  >>> import nltk\n",
        "  >>> nltk.download('punkt')"
      ],
      "execution_count": 7,
      "outputs": [
        {
          "output_type": "stream",
          "text": [
            "[nltk_data] Downloading package punkt to /root/nltk_data...\n",
            "[nltk_data]   Unzipping tokenizers/punkt.zip.\n"
          ],
          "name": "stdout"
        },
        {
          "output_type": "execute_result",
          "data": {
            "text/plain": [
              "True"
            ]
          },
          "metadata": {
            "tags": []
          },
          "execution_count": 7
        }
      ]
    },
    {
      "metadata": {
        "colab_type": "code",
        "id": "G7iMxWsUsX8B",
        "colab": {
          "base_uri": "https://localhost:8080/",
          "height": 504
        },
        "outputId": "d1ab1b2c-c187-44e2-b5f2-e67f7d06542d"
      },
      "cell_type": "code",
      "source": [
        "# Tokenize the sentences with sent_tokenize from NLTK\n",
        "from nltk.tokenize.punkt import PunktSentenceTokenizer\n",
        "# Alternatively, tokenize with PunktSentenceTokenizer from NLTK if you want to keep track of character offsets of sentences\n",
        "sents = sent_tokenize(report.replace('\\n',' ')) # removing new line breaks\n",
        "# Print out list of sentences:\n",
        "sent_count = 0\n",
        "for s in sents:\n",
        "    print(\"Sentence \" + str(sent_count) +\":\")\n",
        "    print(s)\n",
        "    print()\n",
        "    sent_count = sent_count + 1"
      ],
      "execution_count": 8,
      "outputs": [
        {
          "output_type": "stream",
          "text": [
            "Sentence 0:\n",
            "[**2158-5-23**] 4:00 PM  CHEST (PA & LAT)                                                Clip # [**Clip Number (Radiology) 50638**]  Reason: follow up cxr for pt with pneumomia rml  ______________________________________________________________________________  [**Hospital 2**] MEDICAL CONDITION:   37 year old man with sob, chest and left LE DVT  REASON FOR THIS EXAMINATION:   follow up cxr for pt with pneumomia rml  ______________________________________________________________________________                                  FINAL REPORT  INDICATION:  Right middle lobe pneumonia.\n",
            "\n",
            "Sentence 1:\n",
            "CHEST TWO VIEWS:  There are consolidation/collapse in the right middle lobe  and in the anterior segment of the right lower lobe, not significantly changed  since [**2158-5-16**].\n",
            "\n",
            "Sentence 2:\n",
            "There is minimal linear atelectasis at the left lung base.\n",
            "\n",
            "Sentence 3:\n",
            "A  small right pleural effusion is present.\n",
            "\n",
            "Sentence 4:\n",
            "The left costophrenic angle is  clear.\n",
            "\n",
            "Sentence 5:\n",
            "Pulmonary vascularity is normal.\n",
            "\n",
            "Sentence 6:\n",
            "Cardiomediastinal silhouette is  normal.\n",
            "\n",
            "Sentence 7:\n",
            "IMPRESSION:  Consolidation/collapse in the right middle lobe and anterior  segment of the right lower lobe are unchanged since [**2158-5-16**].\n",
            "\n",
            "Sentence 8:\n",
            "A delayed follow  up (time course of several weeks) is recommended to evaluate for long term  change.\n",
            "\n"
          ],
          "name": "stdout"
        }
      ]
    },
    {
      "metadata": {
        "colab_type": "code",
        "id": "xkF7qKoXsX8I",
        "colab": {
          "base_uri": "https://localhost:8080/",
          "height": 504
        },
        "outputId": "a111de68-94cd-4086-8237-9b91abf7d90a"
      },
      "cell_type": "code",
      "source": [
        "sent_count = 0\n",
        "for s_start, s_finish in PunktSentenceTokenizer().span_tokenize(report):\n",
        "    print(\"Sentence \" + str(sent_count) +\": \" + str([s_start, s_finish]))\n",
        "    print(report[s_start:s_finish].replace('\\n',' '))\n",
        "    print()\n",
        "    sent_count = sent_count + 1"
      ],
      "execution_count": 9,
      "outputs": [
        {
          "output_type": "stream",
          "text": [
            "Sentence 0: [0, 588]\n",
            "[**2158-5-23**] 4:00 PM  CHEST (PA & LAT)                                                Clip # [**Clip Number (Radiology) 50638**]  Reason: follow up cxr for pt with pneumomia rml  ______________________________________________________________________________  [**Hospital 2**] MEDICAL CONDITION:   37 year old man with sob, chest and left LE DVT  REASON FOR THIS EXAMINATION:   follow up cxr for pt with pneumomia rml  ______________________________________________________________________________                                  FINAL REPORT  INDICATION:  Right middle lobe pneumonia.\n",
            "\n",
            "Sentence 1: [591, 770]\n",
            "CHEST TWO VIEWS:  There are consolidation/collapse in the right middle lobe  and in the anterior segment of the right lower lobe, not significantly changed  since [**2158-5-16**].\n",
            "\n",
            "Sentence 2: [772, 830]\n",
            "There is minimal linear atelectasis at the left lung base.\n",
            "\n",
            "Sentence 3: [832, 875]\n",
            "A  small right pleural effusion is present.\n",
            "\n",
            "Sentence 4: [877, 915]\n",
            "The left costophrenic angle is  clear.\n",
            "\n",
            "Sentence 5: [917, 949]\n",
            "Pulmonary vascularity is normal.\n",
            "\n",
            "Sentence 6: [951, 991]\n",
            "Cardiomediastinal silhouette is  normal.\n",
            "\n",
            "Sentence 7: [994, 1137]\n",
            "IMPRESSION:  Consolidation/collapse in the right middle lobe and anterior  segment of the right lower lobe are unchanged since [**2158-5-16**].\n",
            "\n",
            "Sentence 8: [1139, 1240]\n",
            "A delayed follow  up (time course of several weeks) is recommended to evaluate for long term  change.\n",
            "\n"
          ],
          "name": "stdout"
        }
      ]
    },
    {
      "metadata": {
        "colab_type": "text",
        "id": "I4XRba2RsX8Q"
      },
      "cell_type": "markdown",
      "source": [
        "### Spot occurrence(s) of word(s) related to your concept in a sentence or document"
      ]
    },
    {
      "metadata": {
        "colab_type": "code",
        "id": "t8FOZQz7sX8T",
        "colab": {}
      },
      "cell_type": "code",
      "source": [
        "# Simple spotter: Spot occurrence of a term in a given lexicon anywhere within a text document or sentence:\n",
        "def spotter(text, lexicon):\n",
        "    text = text.lower()\n",
        "    # Spot if a document mentions any of the terms in the lexicon (not worrying about negation detection yet)\n",
        "    match = [x in text for x in lexicon]\n",
        "    if any(match) == True:\n",
        "        mentioned = 1\n",
        "    else:\n",
        "        mentioned = 0\n",
        "    return mentioned"
      ],
      "execution_count": 0,
      "outputs": []
    },
    {
      "metadata": {
        "colab_type": "code",
        "id": "j2klc13vsX8b",
        "colab": {}
      },
      "cell_type": "code",
      "source": [
        "# Where the lexicon is a list of word(s) or phrase(s) refering to a concept of interest to you, e.g.\n",
        "ptx = ['pneumothorax', 'ptx']\n",
        "sent1 = 'Large left apical ptx present.'\n",
        "sent2 = 'Hello world for NLP'\n"
      ],
      "execution_count": 0,
      "outputs": []
    },
    {
      "metadata": {
        "colab_type": "code",
        "id": "RrGoOz2rsX8q",
        "colab": {
          "base_uri": "https://localhost:8080/",
          "height": 34
        },
        "outputId": "29cec851-f80c-4a67-a6ce-f9dc25aeed8a"
      },
      "cell_type": "code",
      "source": [
        "# lexicon mentioned in text, spotter return 1 (yes)\n",
        "spotter(sent1, ptx)"
      ],
      "execution_count": 12,
      "outputs": [
        {
          "output_type": "execute_result",
          "data": {
            "text/plain": [
              "1"
            ]
          },
          "metadata": {
            "tags": []
          },
          "execution_count": 12
        }
      ]
    },
    {
      "metadata": {
        "colab_type": "code",
        "id": "mv8L6YgJsX8z",
        "colab": {
          "base_uri": "https://localhost:8080/",
          "height": 34
        },
        "outputId": "11e52877-cb88-45f2-a80d-0e3f6ac4f8fd"
      },
      "cell_type": "code",
      "source": [
        "# lexicon not mentioned in text, spotter return 0 (no)\n",
        "spotter(sent2, ptx)"
      ],
      "execution_count": 13,
      "outputs": [
        {
          "output_type": "execute_result",
          "data": {
            "text/plain": [
              "0"
            ]
          },
          "metadata": {
            "tags": []
          },
          "execution_count": 13
        }
      ]
    },
    {
      "metadata": {
        "colab_type": "text",
        "id": "DjY1RsVxsX87"
      },
      "cell_type": "markdown",
      "source": [
        "**How can we do better?**\n",
        "We can do the spotting of concepts (lexicons) A LOT better (more sensitive) if we curate a list of all the ways that the concept could be expressed in raw text. This is what the NLP tool can help you achieve."
      ]
    },
    {
      "metadata": {
        "colab_type": "text",
        "id": "jdGA0_RCsX88"
      },
      "cell_type": "markdown",
      "source": [
        "### Lexicons - there are tools out there where you can get lexicons.  Using an IBM one, we have a list of terms listed below"
      ]
    },
    {
      "metadata": {
        "colab_type": "code",
        "id": "U0b-NKqesX9g",
        "colab": {
          "base_uri": "https://localhost:8080/",
          "height": 54
        },
        "outputId": "2fc09275-b3c5-438f-9ade-48e51702acc0"
      },
      "cell_type": "code",
      "source": [
        "# Printing out the pneumothorax lexicon (after 5 minutes of curating work on the NLP tool)\n",
        "ptx = ['pneumothorax', 'ptx', 'pneumothoraces', 'pnuemothorax', 'pnumothorax', 'pntx', 'penumothorax', 'pneomothorax', 'pneumonthorax', 'pnemothorax', 'pneumothoraxes', 'pneumpthorax', 'pneuomthorax', 'pneumothorx', 'pneumothrax', 'pneumothroax', 'pneumothraces', 'pneunothorax', 'enlarging pneumo', 'pneumothoroax', 'pneuothorax']\n",
        "print(ptx)"
      ],
      "execution_count": 14,
      "outputs": [
        {
          "output_type": "stream",
          "text": [
            "['pneumothorax', 'ptx', 'pneumothoraces', 'pnuemothorax', 'pnumothorax', 'pntx', 'penumothorax', 'pneomothorax', 'pneumonthorax', 'pnemothorax', 'pneumothoraxes', 'pneumpthorax', 'pneuomthorax', 'pneumothorx', 'pneumothrax', 'pneumothroax', 'pneumothraces', 'pneunothorax', 'enlarging pneumo', 'pneumothoroax', 'pneuothorax']\n"
          ],
          "name": "stdout"
        }
      ]
    },
    {
      "metadata": {
        "colab_type": "text",
        "id": "te2F6evWsX9u"
      },
      "cell_type": "markdown",
      "source": [
        "### Negation detection"
      ]
    },
    {
      "metadata": {
        "colab_type": "code",
        "id": "F4WUjy4LsX9w",
        "colab": {
          "base_uri": "https://localhost:8080/",
          "height": 34
        },
        "outputId": "27999068-2c81-4b3e-bf9a-489c6c2e058c"
      },
      "cell_type": "code",
      "source": [
        "# But it's not enough to just spot word occurrences to determine if a concept is affirmative (positive/present) or not.\n",
        "\n",
        "# e.g. lexicon mentioned in text but negated, a simple spotter would still return 1 (yes)\n",
        "sent3 = 'Pneumothorax has resolved.'\n",
        "spotter(sent3, ptx)"
      ],
      "execution_count": 15,
      "outputs": [
        {
          "output_type": "execute_result",
          "data": {
            "text/plain": [
              "1"
            ]
          },
          "metadata": {
            "tags": []
          },
          "execution_count": 15
        }
      ]
    },
    {
      "metadata": {
        "colab_type": "code",
        "id": "gdD6dxLMsX99",
        "colab": {
          "base_uri": "https://localhost:8080/",
          "height": 34
        },
        "outputId": "78efa59e-6310-4fd4-f8bf-c6523529b03a"
      },
      "cell_type": "code",
      "source": [
        "# However, if negation related words occur in close proximity (e.g. same sentence) to a spotted concept \n",
        "# Then we can right some rules to determine if the concept was negated or not\n",
        "\n",
        "# e.g. spotting negation words in the same sentence:\n",
        "neg = ['no','never','not','removed', 'ruled out', 'resolved']\n",
        "spotter(sent3, neg)"
      ],
      "execution_count": 16,
      "outputs": [
        {
          "output_type": "execute_result",
          "data": {
            "text/plain": [
              "1"
            ]
          },
          "metadata": {
            "tags": []
          },
          "execution_count": 16
        }
      ]
    },
    {
      "metadata": {
        "colab_type": "text",
        "id": "TIf0l1nmsX-G"
      },
      "cell_type": "markdown",
      "source": [
        "### Using off-the-shelf python library for negation, e.g. Negex"
      ]
    },
    {
      "metadata": {
        "colab_type": "code",
        "id": "weCXERm6yjGp",
        "colab": {
          "base_uri": "https://localhost:8080/",
          "height": 397
        },
        "outputId": "d3118ac5-69f3-4d5e-b137-c9c5af9ffcd2"
      },
      "cell_type": "code",
      "source": [
        "#This downloads a copy of negex.py and negex_triggers.txt into this environment, we will learn how to use this in the next block\n",
        "!wget  https://stuff.mit.edu/~cwc76/hst953/negex.py\n",
        "!wget  https://stuff.mit.edu/~cwc76/hst953/negex_triggers.txt\n",
        "  \n"
      ],
      "execution_count": 17,
      "outputs": [
        {
          "output_type": "stream",
          "text": [
            "--2019-03-05 19:00:07--  https://stuff.mit.edu/~cwc76/hst953/negex.py\n",
            "Resolving stuff.mit.edu (stuff.mit.edu)... 18.4.60.31\n",
            "Connecting to stuff.mit.edu (stuff.mit.edu)|18.4.60.31|:443... connected.\n",
            "HTTP request sent, awaiting response... 200 OK\n",
            "Length: 8984 (8.8K) [text/x-python]\n",
            "Saving to: ‘negex.py’\n",
            "\n",
            "\rnegex.py              0%[                    ]       0  --.-KB/s               \rnegex.py            100%[===================>]   8.77K  --.-KB/s    in 0s      \n",
            "\n",
            "2019-03-05 19:00:07 (56.5 MB/s) - ‘negex.py’ saved [8984/8984]\n",
            "\n",
            "--2019-03-05 19:00:11--  https://stuff.mit.edu/~cwc76/hst953/negex_triggers.txt\n",
            "Resolving stuff.mit.edu (stuff.mit.edu)... 18.4.60.31\n",
            "Connecting to stuff.mit.edu (stuff.mit.edu)|18.4.60.31|:443... connected.\n",
            "HTTP request sent, awaiting response... 200 OK\n",
            "Length: 7363 (7.2K) [text/plain]\n",
            "Saving to: ‘negex_triggers.txt’\n",
            "\n",
            "negex_triggers.txt  100%[===================>]   7.19K  --.-KB/s    in 0s      \n",
            "\n",
            "2019-03-05 19:00:11 (171 MB/s) - ‘negex_triggers.txt’ saved [7363/7363]\n",
            "\n"
          ],
          "name": "stdout"
        }
      ]
    },
    {
      "metadata": {
        "colab_type": "code",
        "id": "lH7ofx7csX-J",
        "colab": {
          "base_uri": "https://localhost:8080/",
          "height": 34
        },
        "outputId": "822a98d7-813d-44a6-f9e7-22eb7b58cadc"
      },
      "cell_type": "code",
      "source": [
        "import negex\n",
        "rfile = open(r'negex_triggers.txt')\n",
        "irules = negex.sortRules(rfile.readlines())\n",
        "rfile.close()\n",
        "\n",
        "# Example:\n",
        "sent = \"There is no evidence of ptx.\"\n",
        "ptx = ['pneumothorax', 'ptx']\n",
        "tagger = negex.negTagger(sentence = sent, phrases = ptx, rules = irules, negP=False)\n",
        "negation = tagger.getNegationFlag()\n",
        "negation"
      ],
      "execution_count": 18,
      "outputs": [
        {
          "output_type": "execute_result",
          "data": {
            "text/plain": [
              "'negated'"
            ]
          },
          "metadata": {
            "tags": []
          },
          "execution_count": 18
        }
      ]
    },
    {
      "metadata": {
        "colab_type": "code",
        "id": "c4SH4MWFsX-O",
        "colab": {}
      },
      "cell_type": "code",
      "source": [
        "# Applying Negex to the first note:\n",
        "note = CXRreports['text'][16]\n",
        "# Tokenize the sentences:\n",
        "sents_blob = sent_tokenize(note.replace('\\n',' ')) # replacing new line breaks with a space, splits into sentences\n",
        "# Applying spotter function to each sentence:\n",
        "#neg_output = []\n",
        "count = 0\n",
        "for sent in sents:\n",
        "    # Apply Negex if a term in the ptx lexicon is spotted\n",
        "    if spotter(sent,ptx) == 1:\n",
        "        tagger = negex.negTagger(sentence = sent, phrases = ptx, rules = irules, negP=False)\n",
        "        negation = tagger.getNegationFlag()\n",
        "        #neg_output.append(negation)\n",
        "        print(\"Sentence \" + str(count) + \":\\n\" + sent + \"\\nNegex output: \" + negation + '\\n')\n",
        "        count = count + 1"
      ],
      "execution_count": 0,
      "outputs": []
    },
    {
      "metadata": {
        "colab_type": "code",
        "id": "CLsQFv0qsX-U",
        "colab": {
          "base_uri": "https://localhost:8080/",
          "height": 466
        },
        "outputId": "fca7563e-8f8d-49e3-f8a4-c05dab772f90"
      },
      "cell_type": "code",
      "source": [
        "# Show the relevant CXR report for the analysis\n",
        "print(note)"
      ],
      "execution_count": 20,
      "outputs": [
        {
          "output_type": "stream",
          "text": [
            "[**2168-6-12**] 4:05 AM\n",
            " CHEST (PORTABLE AP)                                             Clip # [**Clip Number (Radiology) 102597**]\n",
            " Reason: reeval ETT placement\n",
            " ______________________________________________________________________________\n",
            " [**Hospital 2**] MEDICAL CONDITION:\n",
            "  27 year old man intubated for airway protection and drugs -v- EtOH. ETT very\n",
            "  distal and repositioned. eval placement\n",
            " REASON FOR THIS EXAMINATION:\n",
            "  reeval ETT placement\n",
            " ______________________________________________________________________________\n",
            "                                 FINAL REPORT\n",
            " CLINICAL INDICATION: 27 year old man intubated for airway protection. Status\n",
            " post readjustment of endotracheal tube positioning. Please reevaluate.\n",
            "\n",
            " A single supine portable radiograph of the chest was obtained and compared to\n",
            " the next prior study of approximately 20 minutes earlier.\n",
            "\n",
            " Since the previous examination, the endotracheal tube has been advanced and\n",
            " its tip is now appropriately located approximately 5.5 cm above the carina. As\n",
            " on the previous examination, no abnormalities of the heart, mediastinum, or\n",
            " lungs are detected.\n",
            "\n",
            " IMPRESSION: Appropriate repositioning of endotracheal tube such that its tip\n",
            " is now located approximately 5.5 cm above the carina.\n",
            "\n",
            "\n"
          ],
          "name": "stdout"
        }
      ]
    },
    {
      "metadata": {
        "colab_type": "text",
        "id": "jTK33byysX-a"
      },
      "cell_type": "markdown",
      "source": [
        "### Exercise for you:\n",
        "\n",
        "You can use similar/improved pipeline to loop through all the notes in your dataset and through different concepts/lexicons!"
      ]
    },
    {
      "metadata": {
        "colab_type": "code",
        "id": "cMg45S-HsX-c",
        "colab": {}
      },
      "cell_type": "code",
      "source": [
        ""
      ],
      "execution_count": 0,
      "outputs": []
    },
    {
      "metadata": {
        "colab_type": "code",
        "id": "XTrozTq7sX-o",
        "colab": {}
      },
      "cell_type": "code",
      "source": [
        ""
      ],
      "execution_count": 0,
      "outputs": []
    },
    {
      "metadata": {
        "colab_type": "code",
        "id": "vqJmlOkAsX-s",
        "colab": {}
      },
      "cell_type": "code",
      "source": [
        ""
      ],
      "execution_count": 0,
      "outputs": []
    },
    {
      "metadata": {
        "colab_type": "code",
        "id": "IZwZ6kV-sX-v",
        "colab": {}
      },
      "cell_type": "code",
      "source": [
        ""
      ],
      "execution_count": 0,
      "outputs": []
    }
  ]
}