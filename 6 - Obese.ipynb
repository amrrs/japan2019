{
  "nbformat": 4,
  "nbformat_minor": 0,
  "metadata": {
    "colab": {
      "name": "6 - Obese.ipynb",
      "version": "0.3.2",
      "provenance": [],
      "collapsed_sections": [],
      "include_colab_link": true
    },
    "kernelspec": {
      "display_name": "Python 3",
      "language": "python",
      "name": "python3"
    }
  },
  "cells": [
    {
      "cell_type": "markdown",
      "metadata": {
        "id": "view-in-github",
        "colab_type": "text"
      },
      "source": [
        "<a href=\"https://colab.research.google.com/github/christinium/japan2019/blob/master/6%20-%20Obese.ipynb\" target=\"_parent\"><img src=\"https://colab.research.google.com/assets/colab-badge.svg\" alt=\"Open In Colab\"/></a>"
      ]
    },
    {
      "metadata": {
        "colab_type": "text",
        "id": "TsRhtG_v8x6v"
      },
      "cell_type": "markdown",
      "source": [
        "# 6 - Obese\n"
      ]
    },
    {
      "metadata": {
        "colab_type": "code",
        "id": "WrIBRxjB8x62",
        "colab": {}
      },
      "cell_type": "code",
      "source": [
        "#Load libraries that will be needed\n",
        "import pandas as pd\n",
        "import numpy as np\n",
        "import os\n",
        "\n",
        "from google.colab import auth\n",
        "from google.cloud import bigquery\n",
        "from google.colab import files"
      ],
      "execution_count": 0,
      "outputs": []
    },
    {
      "metadata": {
        "colab_type": "code",
        "id": "VjUx4sRP9MOm",
        "colab": {}
      },
      "cell_type": "code",
      "source": [
        "auth.authenticate_user() #This will allow you to authenticate access to BigQuery"
      ],
      "execution_count": 0,
      "outputs": []
    },
    {
      "metadata": {
        "colab_type": "code",
        "id": "8q5UwFs89SSX",
        "colab": {}
      },
      "cell_type": "code",
      "source": [
        "#This is a method that executes a desired SQL query on the database\n",
        "project_id='datathonjapan2019'\n",
        "os.environ[\"GOOGLE_CLOUD_PROJECT\"]=project_id\n",
        "# Read data from BigQuery into pandas dataframes.\n",
        "def run_query(query):\n",
        "  return pd.io.gbq.read_gbq(query, project_id=project_id, verbose=False, configuration={'query':{'useLegacySql': False}})"
      ],
      "execution_count": 0,
      "outputs": []
    },
    {
      "metadata": {
        "colab_type": "code",
        "id": "aKTDxcNM8x7B",
        "colab": {}
      },
      "cell_type": "code",
      "source": [
        "# Now load the data. In general you'd load the whole set of notes but that would take\n",
        "# several minutes so for this example we're just going to use a subset\n",
        "#notes = pd.read_csv('D.csv')\n",
        "notes = run_query('''\n",
        "    SELECT *\n",
        "    FROM `physionet-data.mimiciii_nlp_demo.discharge`\n",
        "    ''')\n"
      ],
      "execution_count": 0,
      "outputs": []
    },
    {
      "metadata": {
        "colab_type": "code",
        "id": "jXFarBSbA7cU",
        "colab": {
          "base_uri": "https://localhost:8080/",
          "height": 285
        },
        "outputId": "a4fe4348-e5e2-4ba2-fe33-96782bdbc87e"
      },
      "cell_type": "code",
      "source": [
        "notes.head()"
      ],
      "execution_count": 5,
      "outputs": [
        {
          "output_type": "execute_result",
          "data": {
            "text/html": [
              "<div>\n",
              "<style scoped>\n",
              "    .dataframe tbody tr th:only-of-type {\n",
              "        vertical-align: middle;\n",
              "    }\n",
              "\n",
              "    .dataframe tbody tr th {\n",
              "        vertical-align: top;\n",
              "    }\n",
              "\n",
              "    .dataframe thead th {\n",
              "        text-align: right;\n",
              "    }\n",
              "</style>\n",
              "<table border=\"1\" class=\"dataframe\">\n",
              "  <thead>\n",
              "    <tr style=\"text-align: right;\">\n",
              "      <th></th>\n",
              "      <th>row_id</th>\n",
              "      <th>subject_id</th>\n",
              "      <th>hadm_id</th>\n",
              "      <th>chartdate</th>\n",
              "      <th>charttime</th>\n",
              "      <th>storetime</th>\n",
              "      <th>category</th>\n",
              "      <th>description</th>\n",
              "      <th>cgid</th>\n",
              "      <th>iserror</th>\n",
              "      <th>text</th>\n",
              "    </tr>\n",
              "  </thead>\n",
              "  <tbody>\n",
              "    <tr>\n",
              "      <th>0</th>\n",
              "      <td>174</td>\n",
              "      <td>22532</td>\n",
              "      <td>167853</td>\n",
              "      <td>2151-08-04</td>\n",
              "      <td></td>\n",
              "      <td></td>\n",
              "      <td>Discharge summary</td>\n",
              "      <td>Report</td>\n",
              "      <td></td>\n",
              "      <td></td>\n",
              "      <td>Admission Date:  [**2151-7-16**]       Dischar...</td>\n",
              "    </tr>\n",
              "    <tr>\n",
              "      <th>1</th>\n",
              "      <td>175</td>\n",
              "      <td>13702</td>\n",
              "      <td>107527</td>\n",
              "      <td>2118-06-14</td>\n",
              "      <td></td>\n",
              "      <td></td>\n",
              "      <td>Discharge summary</td>\n",
              "      <td>Report</td>\n",
              "      <td></td>\n",
              "      <td></td>\n",
              "      <td>Admission Date:  [**2118-6-2**]       Discharg...</td>\n",
              "    </tr>\n",
              "    <tr>\n",
              "      <th>2</th>\n",
              "      <td>176</td>\n",
              "      <td>13702</td>\n",
              "      <td>167118</td>\n",
              "      <td>2119-05-25</td>\n",
              "      <td></td>\n",
              "      <td></td>\n",
              "      <td>Discharge summary</td>\n",
              "      <td>Report</td>\n",
              "      <td></td>\n",
              "      <td></td>\n",
              "      <td>Admission Date:  [**2119-5-4**]              D...</td>\n",
              "    </tr>\n",
              "    <tr>\n",
              "      <th>3</th>\n",
              "      <td>177</td>\n",
              "      <td>13702</td>\n",
              "      <td>196489</td>\n",
              "      <td>2124-08-18</td>\n",
              "      <td></td>\n",
              "      <td></td>\n",
              "      <td>Discharge summary</td>\n",
              "      <td>Report</td>\n",
              "      <td></td>\n",
              "      <td></td>\n",
              "      <td>Admission Date:  [**2124-7-21**]              ...</td>\n",
              "    </tr>\n",
              "    <tr>\n",
              "      <th>4</th>\n",
              "      <td>178</td>\n",
              "      <td>26880</td>\n",
              "      <td>135453</td>\n",
              "      <td>2162-03-25</td>\n",
              "      <td></td>\n",
              "      <td></td>\n",
              "      <td>Discharge summary</td>\n",
              "      <td>Report</td>\n",
              "      <td></td>\n",
              "      <td></td>\n",
              "      <td>Admission Date:  [**2162-3-3**]              D...</td>\n",
              "    </tr>\n",
              "  </tbody>\n",
              "</table>\n",
              "</div>"
            ],
            "text/plain": [
              "   row_id  subject_id  hadm_id  chartdate charttime storetime  \\\n",
              "0     174       22532   167853 2151-08-04                       \n",
              "1     175       13702   107527 2118-06-14                       \n",
              "2     176       13702   167118 2119-05-25                       \n",
              "3     177       13702   196489 2124-08-18                       \n",
              "4     178       26880   135453 2162-03-25                       \n",
              "\n",
              "            category description cgid iserror  \\\n",
              "0  Discharge summary      Report                \n",
              "1  Discharge summary      Report                \n",
              "2  Discharge summary      Report                \n",
              "3  Discharge summary      Report                \n",
              "4  Discharge summary      Report                \n",
              "\n",
              "                                                text  \n",
              "0  Admission Date:  [**2151-7-16**]       Dischar...  \n",
              "1  Admission Date:  [**2118-6-2**]       Discharg...  \n",
              "2  Admission Date:  [**2119-5-4**]              D...  \n",
              "3  Admission Date:  [**2124-7-21**]              ...  \n",
              "4  Admission Date:  [**2162-3-3**]              D...  "
            ]
          },
          "metadata": {
            "tags": []
          },
          "execution_count": 5
        }
      ]
    },
    {
      "metadata": {
        "colab_type": "code",
        "id": "KbrGptE78x7P",
        "colab": {}
      },
      "cell_type": "code",
      "source": [
        "# Load the gold standard\n",
        "#gold = pd.read_csv('obese-gold.csv')\n",
        "gold = run_query('''\n",
        "    SELECT *  \n",
        "    FROM `physionet-data.mimiciii_nlp_demo.obese_gold` \n",
        "    ''')\n"
      ],
      "execution_count": 0,
      "outputs": []
    },
    {
      "metadata": {
        "colab_type": "code",
        "id": "VDFgJnmM8x7g",
        "colab": {}
      },
      "cell_type": "code",
      "source": [
        "# Here is the list of terms we are going to consider \"good\"\n",
        "terms = ['obese']"
      ],
      "execution_count": 0,
      "outputs": []
    },
    {
      "metadata": {
        "colab_type": "code",
        "id": "p80Fp2xO8x7n",
        "colab": {
          "base_uri": "https://localhost:8080/",
          "height": 34
        },
        "outputId": "d31ff12b-288f-4a84-f833-0434e9786b54"
      },
      "cell_type": "code",
      "source": [
        "# Now scan through all of the notes. Do any of the terms appear? If so stash the note \n",
        "# id for future use\n",
        "\n",
        "matches = []\n",
        "\n",
        "for index, row in notes.iterrows():\n",
        "    if any(x in row['text'] for x in terms):\n",
        "        matches.append(row['subject_id'])\n",
        "\n",
        "print(\"Found \" + str(len(matches)) + \" matching notes.\")"
      ],
      "execution_count": 8,
      "outputs": [
        {
          "output_type": "stream",
          "text": [
            "Found 7 matching notes.\n"
          ],
          "name": "stdout"
        }
      ]
    },
    {
      "metadata": {
        "colab_type": "code",
        "id": "1qD-RMxd8x7x",
        "colab": {}
      },
      "cell_type": "code",
      "source": [
        "# For the patients in those notes, set \"obese\" true (1) in a the results\n",
        "myscores = gold.copy()\n",
        "myscores['obese_1'] = 0 # This sets them all to unknown\n",
        "\n",
        "for subject_id in matches:\n",
        "    myscores.loc[myscores[\"subject_id\"] == subject_id,'obese_1'] = 1\n"
      ],
      "execution_count": 0,
      "outputs": []
    },
    {
      "metadata": {
        "colab_type": "code",
        "id": "jluSXN7A8x76",
        "colab": {
          "base_uri": "https://localhost:8080/",
          "height": 121
        },
        "outputId": "303547b4-5160-40ff-f7c8-3c28b3b6fa75"
      },
      "cell_type": "code",
      "source": [
        "# Compute your score\n",
        "\n",
        "skipped = 0\n",
        "truepositive = 0\n",
        "falsepositive = 0\n",
        "truenegative = 0\n",
        "falsenegative = 0\n",
        "\n",
        "for index, row in myscores.iterrows():\n",
        "    if row['obese_1'] == 0:\n",
        "        skipped = skipped + 1\n",
        "    else:\n",
        "        if row['obese_1'] == 1 and gold.loc[index]['obese_1'] == 1:\n",
        "            truepositive = truepositive + 1\n",
        "        elif row['obese_1'] == -1 and gold.loc[index]['obese_1'] == -1:\n",
        "            truenegative = truenegative + 1\n",
        "        elif row['obese_1'] == 1 and gold.loc[index]['obese_1'] == -1:\n",
        "            falsepositive = falsepositive + 1\n",
        "        elif row['obese_1'] == -1 and gold.loc[index]['obese_1'] == 1:\n",
        "            falsenegative = falsenegative + 1\n",
        "\n",
        "print (\"Skipped:\\t\" + str(skipped))\n",
        "print (\"True Pos:\\t\" + str(truepositive))\n",
        "print (\"True Neg:\\t\" + str(truenegative))\n",
        "print (\"False Pos:\\t\" + str(falsepositive))\n",
        "print (\"False Neg:\\t\" + str(falsenegative))     \n",
        "print (\"SCORE:\\t\\t\" + str(truepositive + truenegative - falsepositive - falsenegative))"
      ],
      "execution_count": 10,
      "outputs": [
        {
          "output_type": "stream",
          "text": [
            "Skipped:\t100\n",
            "True Pos:\t0\n",
            "True Neg:\t0\n",
            "False Pos:\t0\n",
            "False Neg:\t0\n",
            "SCORE:\t\t0\n"
          ],
          "name": "stdout"
        }
      ]
    }
  ]
}